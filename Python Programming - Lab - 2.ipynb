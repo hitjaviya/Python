{
 "cells": [
  {
   "cell_type": "markdown",
   "metadata": {},
   "source": [
    "\n",
    "<a href='https://www.darshan.ac.in/'> <img src='https://www.darshan.ac.in/Content/media/DU_Logo.svg' width=\"250\" height=\"300\"/></a>\n",
    "<pre>\n",
    "<center><b><h1>Python Programming - 2101CS405</b></center>\n",
    "<center><b><h1>Lab - 2</b></center>    \n",
    "<pre>"
   ]
  },
  {
   "cell_type": "markdown",
   "metadata": {},
   "source": [
    "# if..else.."
   ]
  },
  {
   "cell_type": "markdown",
   "metadata": {},
   "source": [
    "### 01) WAP to check whether the given number is positive or negative."
   ]
  },
  {
   "cell_type": "code",
   "execution_count": 1,
   "metadata": {},
   "outputs": [
    {
     "name": "stdout",
     "output_type": "stream",
     "text": [
      "15 is a Positive number\n"
     ]
    }
   ],
   "source": [
    "num = int(input(\"Please enter a number : \"))\n",
    "if(num>=0):\n",
    "  print(f\"{num} is a Positive number\")\n",
    "else:\n",
    "  print(f\"{num} is a negative number\")  "
   ]
  },
  {
   "cell_type": "markdown",
   "metadata": {},
   "source": [
    "### 02) WAP to check whether the given number is odd or even"
   ]
  },
  {
   "cell_type": "code",
   "execution_count": 2,
   "metadata": {},
   "outputs": [
    {
     "name": "stdout",
     "output_type": "stream",
     "text": [
      "number 15 is odd\n"
     ]
    }
   ],
   "source": [
    "n=int(input(\"enter number = \"))\n",
    "if(n%2==0):\n",
    "    print(\"number {n} is even \")\n",
    "else:\n",
    "    print(f\"number {n} is odd\")"
   ]
  },
  {
   "cell_type": "markdown",
   "metadata": {},
   "source": [
    "### 03) WAP to find out largest number from given two numbers using simple if and ternary operator."
   ]
  },
  {
   "cell_type": "code",
   "execution_count": 3,
   "metadata": {},
   "outputs": [
    {
     "name": "stdout",
     "output_type": "stream",
     "text": [
      "number 19 is grater then number 18\n"
     ]
    }
   ],
   "source": [
    "n1=int(input(\"enter number = \"))\n",
    "n2=int(input(\"enter number = \"))\n",
    "if(n1>n2):\n",
    "    print(f\"number {n1} is grater then number {n2}\")\n",
    "else:\n",
    "    print(f\"number {n2} is grater then number {n1}\")"
   ]
  },
  {
   "cell_type": "markdown",
   "metadata": {},
   "source": [
    "### 04) WAP to find out largest number from given three numbers."
   ]
  },
  {
   "cell_type": "code",
   "execution_count": 4,
   "metadata": {},
   "outputs": [
    {
     "name": "stdout",
     "output_type": "stream",
     "text": [
      "79 is greatest of all\n"
     ]
    }
   ],
   "source": [
    "n1 = int(input(\"Please enter number 1 : \"))\n",
    "n2 = int(input(\"Please enter number 2 : \"))\n",
    "n3 = int(input(\"Please enter number 3 : \"))\n",
    "\n",
    "if(n1>n2 and n1>n3):\n",
    "  print(f\"{n1} is greatest of all\")\n",
    "elif(n2>n1 and n2>n3):\n",
    "  print(f\"{n2} is greatest of all\")  \n",
    "else: \n",
    "  print(f\"{n3} is greatest of all\")  "
   ]
  },
  {
   "cell_type": "markdown",
   "metadata": {},
   "source": [
    "### 05) WAP to check whether the given year is leap year or not.\n",
    "[If a year can be divisible by 4 but not divisible by 100 then it is leap year but if it is divisible by 400 then it is leap year]"
   ]
  },
  {
   "cell_type": "code",
   "execution_count": 5,
   "metadata": {},
   "outputs": [
    {
     "name": "stdout",
     "output_type": "stream",
     "text": [
      "Non-leap year...\n"
     ]
    }
   ],
   "source": [
    "year = int(input(\"Please enter year : \"))\n",
    "if(year%4==0 and year%100!=0):\n",
    "  print(\"Leap year...\")\n",
    "else:\n",
    "  print(\"Non-leap year...\")  "
   ]
  },
  {
   "cell_type": "markdown",
   "metadata": {},
   "source": [
    "### 06) WAP in python to display the name of the day according to the number given by the user"
   ]
  },
  {
   "cell_type": "code",
   "execution_count": 6,
   "metadata": {},
   "outputs": [
    {
     "name": "stdout",
     "output_type": "stream",
     "text": [
      "Friday\n"
     ]
    }
   ],
   "source": [
    "n = int(input(\"Please enter the number : \"))\n",
    "if(n==1):\n",
    "  print(\"Monday\")\n",
    "elif(n==2):\n",
    "  print(\"Tuesday\")\n",
    "elif(n==3):\n",
    "  print(\"Wednesday\")\n",
    "elif(n==4):\n",
    "  print(\"Thrusday\")\n",
    "elif(n==5):\n",
    "  print(\"Friday\")\n",
    "elif(n==6):\n",
    "  print(\"Saturday\")\n",
    "elif(n==7):\n",
    "  print(\"Sunday\")          \n",
    "else:\n",
    "  print(\"Wrong input\")\n"
   ]
  },
  {
   "cell_type": "markdown",
   "metadata": {},
   "source": [
    "### 07) WAP to implement simple calculator which performs (add,sub,mul,div) of two no. based on user input."
   ]
  },
  {
   "cell_type": "code",
   "execution_count": 7,
   "metadata": {},
   "outputs": [
    {
     "name": "stdout",
     "output_type": "stream",
     "text": [
      "Answer =  108\n"
     ]
    }
   ],
   "source": [
    "n1 = int(input(\"enter number 1 : \"))\n",
    "n2 = int(input(\"enter number 2 : \"))\n",
    "oper = int(input(\"enter \\n 1.    + \\n 2.   - \\n 3.    * \\n 4.    / \\n\"))\n",
    "if(oper==1):\n",
    "  print(\"Answer = \",n1+n2)\n",
    "elif(oper==2):\n",
    "  print(\"Answer = \",n1-n2)  \n",
    "elif(oper==3):\n",
    "  print(\"Answer = \",n1*n2)\n",
    "elif(oper==4):\n",
    "  if(n2==0):\n",
    "    n2 = int(input(\"enter valid value of number 2 : \"))\n",
    "    if(n2==0):\n",
    "      print(\"Invalid input\")\n",
    "    else:\n",
    "         print(\"Answer = \",round((n1/n2),2))\n",
    "  else:\n",
    "    print(\"Answer = \",round((n1/n2),2))   \n",
    "else:\n",
    "  print(\"Enter valid option\")  "
   ]
  },
  {
   "cell_type": "markdown",
   "metadata": {},
   "source": [
    "### 08) WAP to calculate electricity bill based on following criteria. Which takes the unit from the user.\n",
    "a. First 1 to 50 units – Rs. 2.60/unit</br>\n",
    "b. Next 50 to 100 units – Rs. 3.25/unit</br>\n",
    "c. Next 100 to 200 units – Rs. 5.26/unit</br>\n",
    "d. above 200 units – Rs. 8.45/unit"
   ]
  },
  {
   "cell_type": "code",
   "execution_count": 8,
   "metadata": {},
   "outputs": [
    {
     "name": "stdout",
     "output_type": "stream",
     "text": [
      "Your bill = Rs 69475.9\n"
     ]
    }
   ],
   "source": [
    "unit = int(input(\"enter unit : \"))\n",
    "if(unit>200):\n",
    "  print(\"Your bill = Rs\",unit*8.45,)\n",
    "elif(unit>100 and unit<=200):\n",
    "  print(\"Your bill = Rs\",unit*5.26)  \n",
    "elif(unit>50 and unit<=100):\n",
    "  print(\"Your bill = Rs\",unit*3.25)\n",
    "elif(unit>0 and unit<=50):\n",
    "  print(\"Your bill = Rs\",unit*2.60)   \n",
    "else:\n",
    "   print(\"Invalid input\")"
   ]
  },
  {
   "cell_type": "markdown",
   "metadata": {},
   "source": [
    "### 01) WAP to read marks of five subjects. Calculate percentage and print class accordingly. \n",
    "Fail below 35 </br>\n",
    "Pass Class between 35 to 45 </br>\n",
    "Second Class</br>\n",
    "between 45 to 60</br>\n",
    "First Class between 60 to 70</br> \n",
    "Distinction if more than 70"
   ]
  },
  {
   "cell_type": "code",
   "execution_count": 9,
   "metadata": {},
   "outputs": [
    {
     "name": "stdout",
     "output_type": "stream",
     "text": [
      " Congratulations! You got Distinction\n"
     ]
    }
   ],
   "source": [
    "marks = []\n",
    "result = 0\n",
    "for x in range(5):\n",
    "  marks.append(int(input(f\"Please enter marks of subject {x+1} : \")))\n",
    "  result = result + marks[x]\n",
    "result = result/5\n",
    "if(result>70):\n",
    "  print(\" Congratulations! You got Distinction\")\n",
    "elif(result>60 and result<=70):\n",
    "  print(\" Congratulations! You got First class\")   \n",
    "elif(result>45 and result<=60):\n",
    "  print(\" Congratulations! You got Second class\")\n",
    "elif(result>35 and result<=45):\n",
    "  print(\" Congratulations! You got Pass class\")\n",
    "else:\n",
    "  print(\"You Fail\")    "
   ]
  },
  {
   "cell_type": "markdown",
   "metadata": {},
   "source": [
    "### 02) WAP to find out the Maximum and Minimum number from given 4 numbers."
   ]
  },
  {
   "cell_type": "code",
   "execution_count": 10,
   "metadata": {},
   "outputs": [
    {
     "name": "stdout",
     "output_type": "stream",
     "text": [
      "Maximum number = 100 && Minimum number = 39\n"
     ]
    }
   ],
   "source": [
    "num = []\n",
    "max = 0\n",
    "min = 100000000\n",
    "for x in range(4):\n",
    "  num.append(int(input(f\"Please enter number {x+1} : \")))\n",
    "  if(max<num[x]):\n",
    "    max = num[x]\n",
    "  elif(min>num[x]):\n",
    "    min = num[x]\n",
    "print(f\"Maximum number = {max} && Minimum number = {min}\")  "
   ]
  },
  {
   "cell_type": "markdown",
   "metadata": {},
   "source": [
    "### 03) WAP to input an integer number and check the last digit of number is even or odd."
   ]
  },
  {
   "cell_type": "code",
   "execution_count": 11,
   "metadata": {},
   "outputs": [
    {
     "name": "stdout",
     "output_type": "stream",
     "text": [
      "The last digit of the number is odd\n"
     ]
    }
   ],
   "source": [
    "n = int(input(\"Please enter the number : \"))\n",
    "r = n%10\n",
    "print(\"The last digit of the number is even\") if(r%2==0) else print(\"The last digit of the number is odd\")"
   ]
  },
  {
   "cell_type": "markdown",
   "metadata": {},
   "source": [
    "### 04) WAP to determine the roots of the equation ax2+bx+c=0."
   ]
  },
  {
   "cell_type": "code",
   "execution_count": null,
   "metadata": {},
   "outputs": [],
   "source": [
    "import math\n",
    "a = int(input(\"Please enter x2 co-efficient : \"))\n",
    "b = int(input(\"Please enter x co-efficient : \"))\n",
    "c = int(input(\"Please enter co-efficient : \"))\n",
    "D = math.sqrt(math.pow(b,2)-4*a*c);\n",
    "print(f\"Solution1 :  \",round((((-b+D)/(2*a))),2))\n",
    "print(f\"Solution2 :  \",round((((-b-D)/(2*a))),2))"
   ]
  }
 ],
 "metadata": {
  "kernelspec": {
   "display_name": "Python 3.11.0 64-bit",
   "language": "python",
   "name": "python3"
  },
  "language_info": {
   "codemirror_mode": {
    "name": "ipython",
    "version": 3
   },
   "file_extension": ".py",
   "mimetype": "text/x-python",
   "name": "python",
   "nbconvert_exporter": "python",
   "pygments_lexer": "ipython3",
   "version": "3.11.0 (main, Oct 24 2022, 18:26:48) [MSC v.1933 64 bit (AMD64)]"
  },
  "vscode": {
   "interpreter": {
    "hash": "179cc9a1396c636a5f54148d283c6e41c51720a784e99b41dfba0c335d8a4ba0"
   }
  }
 },
 "nbformat": 4,
 "nbformat_minor": 4
}
