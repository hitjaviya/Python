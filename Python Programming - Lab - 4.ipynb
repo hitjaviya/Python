{
 "cells": [
  {
   "cell_type": "markdown",
   "metadata": {},
   "source": [
    "\n",
    "<a href='https://www.darshan.ac.in/'> <img src='https://www.darshan.ac.in/Content/media/DU_Logo.svg' width=\"250\" height=\"300\"/></a>\n",
    "<pre>\n",
    "<center><b><h1>Python Programming - 2101CS405</b></center>\n",
    "<center><b><h1>Lab - 4</b></center>    \n",
    "<pre>"
   ]
  },
  {
   "cell_type": "markdown",
   "metadata": {},
   "source": [
    "# String"
   ]
  },
  {
   "cell_type": "markdown",
   "metadata": {},
   "source": [
    "### 01) WAP to check given string is palindrome or not."
   ]
  },
  {
   "cell_type": "code",
   "execution_count": 2,
   "metadata": {},
   "outputs": [
    {
     "name": "stdout",
     "output_type": "stream",
     "text": [
      "adjkh is not pelidrom\n"
     ]
    }
   ],
   "source": [
    "inputString=input(\"enter string\")\n",
    "if(inputString==inputString[::-1]):\n",
    "    print(f\"{inputString} is pelidrom\")\n",
    "else:\n",
    "    print(f\"{inputString} is not pelidrom\")"
   ]
  },
  {
   "cell_type": "markdown",
   "metadata": {},
   "source": [
    "### 02) WAP to reverse the words in given string."
   ]
  },
  {
   "cell_type": "code",
   "execution_count": 28,
   "metadata": {},
   "outputs": [
    {
     "name": "stdout",
     "output_type": "stream",
     "text": [
      "hit javiya\n",
      "javiya hit "
     ]
    }
   ],
   "source": [
    "string=input(\"Enter a line\")\n",
    "print(string)\n",
    "list=string.split(\" \")\n",
    "for i in list[::-1]:\n",
    "    print(i,end=\" \")"
   ]
  },
  {
   "cell_type": "markdown",
   "metadata": {},
   "source": [
    "### 03) WAP to remove ith character from given string"
   ]
  },
  {
   "cell_type": "code",
   "execution_count": 13,
   "metadata": {},
   "outputs": [
    {
     "name": "stdout",
     "output_type": "stream",
     "text": [
      "hit jviy\n"
     ]
    }
   ],
   "source": [
    "string=input(\"enter a string\")\n",
    "index=int(input(\"enter index\"))\n",
    "print(string.replace(string[index],\"\"))\n"
   ]
  },
  {
   "cell_type": "markdown",
   "metadata": {},
   "source": [
    "### 04) WAP to find length of String without using len function."
   ]
  },
  {
   "cell_type": "code",
   "execution_count": 15,
   "metadata": {},
   "outputs": [
    {
     "name": "stdout",
     "output_type": "stream",
     "text": [
      "10\n"
     ]
    }
   ],
   "source": [
    "string=input(\"enter a string\")\n",
    "length=0\n",
    "for i in string:\n",
    "    length+=1\n",
    "print(length)    "
   ]
  },
  {
   "cell_type": "markdown",
   "metadata": {},
   "source": [
    "### 05) WAP to print even length word in string."
   ]
  },
  {
   "cell_type": "code",
   "execution_count": 17,
   "metadata": {},
   "outputs": [
    {
     "name": "stdout",
     "output_type": "stream",
     "text": [
      "javiya "
     ]
    }
   ],
   "source": [
    "string=input(\"enter a string\")\n",
    "list=string.split(\" \")\n",
    "for i in list:\n",
    "    if len(i) % 2==0:print(i,end=\" \")"
   ]
  },
  {
   "cell_type": "markdown",
   "metadata": {},
   "source": [
    "### 06) WAP to count numbers of vowels in given string."
   ]
  },
  {
   "cell_type": "code",
   "execution_count": 18,
   "metadata": {},
   "outputs": [
    {
     "name": "stdout",
     "output_type": "stream",
     "text": [
      "4\n"
     ]
    }
   ],
   "source": [
    "string=input(\"enter a string\").lower()\n",
    "cout=0\n",
    "for i in string:\n",
    "    if i in ['a','i','o','u','e']:cout+=1\n",
    "\n",
    "print(cout)"
   ]
  },
  {
   "cell_type": "markdown",
   "metadata": {},
   "source": [
    "### 07) WAP to convert given array to string."
   ]
  },
  {
   "cell_type": "code",
   "execution_count": 26,
   "metadata": {},
   "outputs": [
    {
     "name": "stdout",
     "output_type": "stream",
     "text": [
      "hit javiya\n"
     ]
    }
   ],
   "source": [
    "list=[\"hit \",\"javiya\"]\n",
    "string=\"\"\n",
    "print(string.join(list))"
   ]
  },
  {
   "attachments": {},
   "cell_type": "markdown",
   "metadata": {},
   "source": [
    "01)WAP to find out duplicate charaters in givne string"
   ]
  },
  {
   "cell_type": "code",
   "execution_count": 30,
   "metadata": {},
   "outputs": [
    {
     "name": "stdout",
     "output_type": "stream",
     "text": [
      "{'i': 2, 'a': 2}\n"
     ]
    }
   ],
   "source": [
    "string=input(\"enter a string\")\n",
    "dictinory={}\n",
    "for i in string:\n",
    "    if(string.count(i)>1):\n",
    "        dictinory[i]=string.count(i)\n",
    "print(dictinory)        "
   ]
  },
  {
   "cell_type": "markdown",
   "metadata": {},
   "source": [
    "### 02) WAP to capitalize the first and last character of each word in a string."
   ]
  },
  {
   "cell_type": "code",
   "execution_count": 36,
   "metadata": {},
   "outputs": [
    {
     "name": "stdout",
     "output_type": "stream",
     "text": [
      "HiT JaviyA \n"
     ]
    }
   ],
   "source": [
    "string=input(\"enter a string\")\n",
    "list=string.split(\" \")\n",
    "output=\"\"\n",
    "for i in list:\n",
    "    output+= i[0].upper()+i[1:len(i)-1]+i[len(i)-1].upper() +\" \"\n",
    "print(output)\n"
   ]
  },
  {
   "cell_type": "markdown",
   "metadata": {},
   "source": [
    "### 03) WAP to find Maximum frequency character in String."
   ]
  },
  {
   "cell_type": "code",
   "execution_count": null,
   "metadata": {},
   "outputs": [],
   "source": []
  },
  {
   "cell_type": "markdown",
   "metadata": {},
   "source": [
    "### 04) WAP to find Minimum frequency character in String."
   ]
  },
  {
   "cell_type": "code",
   "execution_count": 41,
   "metadata": {},
   "outputs": [],
   "source": [
    "%reset\n"
   ]
  },
  {
   "cell_type": "markdown",
   "metadata": {},
   "source": [
    "### 05) WAP to check if a given string is binary string or not"
   ]
  },
  {
   "cell_type": "code",
   "execution_count": 44,
   "metadata": {},
   "outputs": [
    {
     "name": "stdout",
     "output_type": "stream",
     "text": [
      "is a binary string\n"
     ]
    }
   ],
   "source": [
    "stirng=input(\"enter a string\")\n",
    "for i in stirng:\n",
    "    if i not in ['0','1'] : \n",
    "        print(\"not a binary string\")\n",
    "        break\n",
    "else:\n",
    "    print(\"is a binary string\")"
   ]
  }
 ],
 "metadata": {
  "kernelspec": {
   "display_name": "Python 3",
   "language": "python",
   "name": "python3"
  },
  "language_info": {
   "codemirror_mode": {
    "name": "ipython",
    "version": 3
   },
   "file_extension": ".py",
   "mimetype": "text/x-python",
   "name": "python",
   "nbconvert_exporter": "python",
   "pygments_lexer": "ipython3",
   "version": "3.11.0 (main, Oct 24 2022, 18:26:48) [MSC v.1933 64 bit (AMD64)]"
  },
  "vscode": {
   "interpreter": {
    "hash": "179cc9a1396c636a5f54148d283c6e41c51720a784e99b41dfba0c335d8a4ba0"
   }
  }
 },
 "nbformat": 4,
 "nbformat_minor": 4
}
