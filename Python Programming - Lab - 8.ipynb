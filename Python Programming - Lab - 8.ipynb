{
 "cells": [
  {
   "cell_type": "markdown",
   "metadata": {},
   "source": [
    "<a href='https://www.darshan.ac.in/'> <img src='https://www.darshan.ac.in/Content/media/DU_Logo.svg' width=\"250\" height=\"300\"/></a>\n",
    "<pre>\n",
    "<center><b><h1>Python Programming - 2101CS405</b></center>\n",
    "<center><b><h1>Lab - 8</b></center>    \n",
    "<pre>"
   ]
  },
  {
   "cell_type": "markdown",
   "metadata": {},
   "source": [
    "# File handling"
   ]
  },
  {
   "cell_type": "markdown",
   "metadata": {},
   "source": [
    "# A"
   ]
  },
  {
   "cell_type": "markdown",
   "metadata": {},
   "source": [
    "### 01) WAP to read entire file named abc.txt"
   ]
  },
  {
   "cell_type": "code",
   "execution_count": 5,
   "metadata": {},
   "outputs": [
    {
     "name": "stdout",
     "output_type": "stream",
     "text": [
      "hit javiya\n",
      "\n",
      "jeet abc abc\n",
      "\n",
      "kishan xyz abc\n",
      "\n",
      "habc pqr\n"
     ]
    }
   ],
   "source": [
    "abc=open(\"abc.txt\",\"r+\")\n",
    "for i in abc:\n",
    "    print(i)\n"
   ]
  },
  {
   "cell_type": "markdown",
   "metadata": {},
   "source": [
    "### 02) WAP to print program it self on console."
   ]
  },
  {
   "cell_type": "code",
   "execution_count": null,
   "metadata": {},
   "outputs": [],
   "source": [
    "PythonProgrammingLab8ipynb = open(\"Python Programming - Lab - 8.ipynb\")\n",
    "read=PythonProgrammingLab8ipynb.readlines()\n",
    "for i in read:\n",
    "    print(i)"
   ]
  },
  {
   "cell_type": "markdown",
   "metadata": {},
   "source": [
    "### 03) WAP to read first 5 lines from the file named abc.txt"
   ]
  },
  {
   "cell_type": "code",
   "execution_count": 14,
   "metadata": {},
   "outputs": [
    {
     "name": "stdout",
     "output_type": "stream",
     "text": [
      "hit javiya\n",
      "\n",
      "jeet abc abc\n",
      "\n",
      "kishan xyz abc\n",
      "\n",
      "habc pqr\n",
      "\n"
     ]
    }
   ],
   "source": [
    "abc=open(\"abc.txt\",\"r+\")\n",
    "for i in range(5) :\n",
    "    readabc=abc.readline()\n",
    "    print(readabc)\n"
   ]
  },
  {
   "cell_type": "markdown",
   "metadata": {},
   "source": [
    "### 04) WAP to find the longest word in a file named abc.txt"
   ]
  },
  {
   "cell_type": "code",
   "execution_count": 28,
   "metadata": {},
   "outputs": [
    {
     "name": "stdout",
     "output_type": "stream",
     "text": [
      "\n"
     ]
    }
   ],
   "source": [
    "%reset\n",
    "abc=open(\"abc.txt\",\"r+\")\n",
    "\n",
    "max(abc.read().split(),key=len)"
   ]
  },
  {
   "cell_type": "markdown",
   "metadata": {},
   "source": [
    "### 05) WAP to find the size of the file named abc.txt"
   ]
  },
  {
   "cell_type": "code",
   "execution_count": 1,
   "metadata": {},
   "outputs": [
    {
     "data": {
      "text/plain": [
       "50"
      ]
     },
     "execution_count": 1,
     "metadata": {},
     "output_type": "execute_result"
    }
   ],
   "source": [
    "import os \n",
    "os.stat(\"abc.txt\").st_size\n"
   ]
  },
  {
   "cell_type": "markdown",
   "metadata": {},
   "source": [
    "### 06) WAP to implement search function to search specific occurance of word in a given text file."
   ]
  },
  {
   "cell_type": "code",
   "execution_count": 4,
   "metadata": {},
   "outputs": [
    {
     "data": {
      "text/plain": [
       "3"
      ]
     },
     "execution_count": 4,
     "metadata": {},
     "output_type": "execute_result"
    }
   ],
   "source": [
    "%reset\n",
    "abc=open(\"abc.txt\",\"r+\")\n",
    "word=input(\"enter word to check : \")\n",
    "abc.read().split().count(word)"
   ]
  },
  {
   "cell_type": "markdown",
   "metadata": {},
   "source": [
    "# B"
   ]
  },
  {
   "cell_type": "markdown",
   "metadata": {},
   "source": [
    "### 01) WAP to write first 100 prime numbers to a file named primenumbers.txt \n",
    "(Note: each number should be in new line)"
   ]
  },
  {
   "cell_type": "code",
   "execution_count": 5,
   "metadata": {},
   "outputs": [],
   "source": [
    "from sympy import prime\n",
    "with open(\"primenumbers.txt \",\"w\") as f:\n",
    "    for i in range(1,101):\n",
    "        f.write(str(prime(i))+\"\\n\")"
   ]
  },
  {
   "cell_type": "markdown",
   "metadata": {},
   "source": [
    "### 02) WAP to merge two files and write it in a new file."
   ]
  },
  {
   "cell_type": "code",
   "execution_count": 4,
   "metadata": {},
   "outputs": [],
   "source": [
    "fileNames=[\"abc.txt\",\"new.txt\"]\n",
    "with open(\"merge.txt\",\"w+\") as m:\n",
    "    for i in fileNames:\n",
    "        f=open(i)\n",
    "        for i in f:\n",
    "            m.write(i)\n",
    "        m.write(\"\\n\")\n",
    "        \n"
   ]
  },
  {
   "cell_type": "markdown",
   "metadata": {},
   "source": [
    "### 03) WAP to encrypt a text file."
   ]
  },
  {
   "cell_type": "code",
   "execution_count": 18,
   "metadata": {},
   "outputs": [],
   "source": [
    "from cryptography.fernet import Fernet\n",
    "key = Fernet.generate_key()\n",
    "\n",
    "with open('mykey.key', 'wb') as mykey:\n",
    "    mykey.write(key)\n",
    "\n",
    "with open('mykey.key', 'rb') as mykey:\n",
    "    k = mykey.read()\n",
    "\n",
    "f = Fernet(k)\n",
    "\n",
    "with open('abc.txt', 'rb') as original_file:\n",
    "    original = original_file.read()\n",
    "\n",
    "encrypted = f.encrypt(original)\n",
    "\n",
    "with open ('encrypted.txt', 'wb') as encrypted_file:\n",
    "    encrypted_file.write(encrypted)"
   ]
  },
  {
   "cell_type": "markdown",
   "metadata": {},
   "source": [
    "### 04) WAP to decrypt a previously encrypted file."
   ]
  },
  {
   "cell_type": "code",
   "execution_count": 20,
   "metadata": {},
   "outputs": [],
   "source": [
    "from cryptography.fernet import Fernet\n",
    "f = Fernet(key)\n",
    "\n",
    "with open('encrypted.txt', 'rb') as encrypted_file:\n",
    "    encrypted = encrypted_file.read()\n",
    "\n",
    "decrypted = f.decrypt(encrypted)\n",
    "\n",
    "with open('decrypted.txt', 'wb') as decrypted_file:\n",
    "    decrypted_file.write(decrypted)"
   ]
  },
  {
   "cell_type": "markdown",
   "metadata": {},
   "source": [
    "### 05) WAP to remove a word from text file."
   ]
  },
  {
   "cell_type": "code",
   "execution_count": 48,
   "metadata": {},
   "outputs": [
    {
     "name": "stdout",
     "output_type": "stream",
     "text": [
      "['hit', 'javiya', 'jeet', 'abc', 'abc', 'kishan', 'xyz', 'abc', 'habc']\n"
     ]
    }
   ],
   "source": [
    "%reset\n",
    "abc=open(\"abc.txt\",\"r+\")\n",
    "word=input(\"enter word to remove : \")\n",
    "xyz=abc.read().split()\n",
    "print(xyz)\n",
    "res = [i for i in xyz if i != word]\n",
    "with open(\"deeee.txt\",\"w\") as writefile:\n",
    "    for i in res:\n",
    "            writefile.write(i+\"\\n\")\n"
   ]
  }
 ],
 "metadata": {
  "kernelspec": {
   "display_name": "Python 3",
   "language": "python",
   "name": "python3"
  },
  "language_info": {
   "codemirror_mode": {
    "name": "ipython",
    "version": 3
   },
   "file_extension": ".py",
   "mimetype": "text/x-python",
   "name": "python",
   "nbconvert_exporter": "python",
   "pygments_lexer": "ipython3",
   "version": "3.11.0"
  },
  "vscode": {
   "interpreter": {
    "hash": "179cc9a1396c636a5f54148d283c6e41c51720a784e99b41dfba0c335d8a4ba0"
   }
  }
 },
 "nbformat": 4,
 "nbformat_minor": 4
}
